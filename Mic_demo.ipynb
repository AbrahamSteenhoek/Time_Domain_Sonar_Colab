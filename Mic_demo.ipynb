{
  "nbformat": 4,
  "nbformat_minor": 0,
  "metadata": {
    "colab": {
      "name": "Mic_demo.ipynb",
      "provenance": [],
      "collapsed_sections": []
    },
    "kernelspec": {
      "name": "python3",
      "display_name": "Python 3"
    },
    "language_info": {
      "name": "python"
    }
  },
  "cells": [
    {
      "cell_type": "code",
      "metadata": {
        "colab": {
          "base_uri": "https://localhost:8080/"
        },
        "id": "mEq5EuabPXSr",
        "outputId": "e21d47da-2369-4ccf-9b2f-954b4cfde558"
      },
      "source": [
        "# import functions and libraries\n",
        "import numpy as np, matplotlib.pyplot as plt\n",
        "from matplotlib.pyplot import *\n",
        "import scipy\n",
        "from scipy import signal\n",
        "from numpy import *\n",
        "\n",
        "from IPython.display import Audio\n",
        "\n",
        "!pip install ffmpeg-python\n",
        "!wget -O mic_to_np_arr_TEMP.py https://raw.githubusercontent.com/AbrahamSteenhoek/RaspPi_DSP/main/mic_to_np_arr.py\n",
        "import mic_to_np_arr_TEMP as mic\n",
        "\n",
        "%matplotlib inline"
      ],
      "execution_count": 4,
      "outputs": [
        {
          "output_type": "stream",
          "name": "stdout",
          "text": [
            "Collecting ffmpeg-python\n",
            "  Downloading ffmpeg_python-0.2.0-py3-none-any.whl (25 kB)\n",
            "Requirement already satisfied: future in /usr/local/lib/python3.7/dist-packages (from ffmpeg-python) (0.16.0)\n",
            "Installing collected packages: ffmpeg-python\n",
            "Successfully installed ffmpeg-python-0.2.0\n",
            "--2021-12-17 08:24:25--  https://raw.githubusercontent.com/AbrahamSteenhoek/RaspPi_DSP/main/mic_to_np_arr.py\n",
            "Resolving raw.githubusercontent.com (raw.githubusercontent.com)... 185.199.108.133, 185.199.110.133, 185.199.109.133, ...\n",
            "Connecting to raw.githubusercontent.com (raw.githubusercontent.com)|185.199.108.133|:443... connected.\n",
            "HTTP request sent, awaiting response... 200 OK\n",
            "Length: 3960 (3.9K) [text/plain]\n",
            "Saving to: ‘mic_to_np_arr_TEMP.py’\n",
            "\n",
            "mic_to_np_arr_TEMP. 100%[===================>]   3.87K  --.-KB/s    in 0s      \n",
            "\n",
            "2021-12-17 08:24:26 (30.6 MB/s) - ‘mic_to_np_arr_TEMP.py’ saved [3960/3960]\n",
            "\n"
          ]
        }
      ]
    },
    {
      "cell_type": "code",
      "source": [
        "def record_plot_audio(window_size=1024):\n",
        "  mic_audio, mic_sr = mic.get_audio()\n",
        "\n",
        "  t = r_[0.0:len(mic_audio)]/mic_sr\n",
        "  width, height = plt.figaspect(0.2)\n",
        "  fig = plt.figure(figsize=(width,height))\n",
        "  plt.plot(t, abs(mic_audio))\n",
        "  plt.title('Recorded audio')\n",
        "  plt.xlabel('time[s]')\n",
        "  plt.show()\n",
        "\n",
        "  mic_spectrum = np.fft.rfft(mic_audio, n=window_size)\n",
        "  mic_spectrum_freq = np.fft.rfftfreq(window_size, d=1./mic_sr)\n",
        "  # mic_spectrum_abs = abs(mic_spectrum)\n",
        "\n",
        "  # plot\n",
        "  width, height = plt.figaspect(0.2)\n",
        "  fig = plt.figure(figsize=(width,height))\n",
        "  plt.plot(mic_spectrum_freq, abs(mic_spectrum))\n",
        "  plt.xlabel(\"Frequency [Hz]\")\n",
        "  plt.ylabel(\"Magnitude\")\n",
        "  plt.title(\"Frequency response of recorded audio\")\n",
        "\n",
        "  return mic_audio, mic_sr, mic_spectrum, mic_spectrum_freq\n",
        "\n",
        "def record_plot_audio2():\n",
        "  mic_audio, mic_sr = mic.get_audio()\n",
        "\n",
        "  t = r_[0.0:len(mic_audio)]/mic_sr\n",
        "  width, height = plt.figaspect(0.2)\n",
        "  fig = plt.figure(figsize=(width,height))\n",
        "  plt.plot(t, abs(mic_audio))\n",
        "  plt.title('Recorded audio')\n",
        "  plt.xlabel('time[s]')\n",
        "  plt.show()\n",
        "\n",
        "  w, mic_spectrum = signal.freqz(mic_audio, worN=512)\n",
        "  freq = w/pi*mic_sr/2\n",
        "  # plot\n",
        "  width, height = plt.figaspect(0.2)\n",
        "  fig = plt.figure(figsize=(width,height))\n",
        "  plt.plot(freq, abs(mic_spectrum))\n",
        "  plt.xlabel(\"Frequency [Hz]\")\n",
        "  plt.ylabel(\"Magnitude\")\n",
        "  plt.title(\"Frequency response of recorded audio\")\n",
        "\n",
        "  return np.copy(mic_audio), mic_sr, mic_spectrum, freq"
      ],
      "metadata": {
        "id": "PAiA8Am2Mkrz"
      },
      "execution_count": 5,
      "outputs": []
    },
    {
      "cell_type": "markdown",
      "metadata": {
        "id": "CWIL2Vy8ScY3"
      },
      "source": [
        "# Mic Sandbox Usage\n",
        "There is a sample chirp (above) available to play. To record using your PC's built-in microphone, run the next section of code. To stop, press the recording button as instructed. The recorded audio and frequency response will be plotted."
      ]
    },
    {
      "cell_type": "code",
      "source": [
        "s_chirp, sr, Sf_chirp, freq = record_plot_audio2()"
      ],
      "metadata": {
        "colab": {
          "base_uri": "https://localhost:8080/",
          "height": 565
        },
        "id": "xbGsVzPeNXUr",
        "outputId": "1c5f5c3d-fe46-4a56-f6c2-5a406d285039"
      },
      "execution_count": null,
      "outputs": [
        {
          "output_type": "display_data",
          "data": {
            "text/html": [
              "\n",
              "<script>\n",
              "var my_div = document.createElement(\"DIV\");\n",
              "var my_p = document.createElement(\"P\");\n",
              "var my_btn = document.createElement(\"BUTTON\");\n",
              "var t = document.createTextNode(\"Press to start recording\");\n",
              "\n",
              "my_btn.appendChild(t);\n",
              "//my_p.appendChild(my_btn);\n",
              "my_div.appendChild(my_btn);\n",
              "document.body.appendChild(my_div);\n",
              "\n",
              "var base64data = 0;\n",
              "var reader;\n",
              "var recorder, gumStream;\n",
              "var recordButton = my_btn;\n",
              "\n",
              "var handleSuccess = function(stream) {\n",
              "  gumStream = stream;\n",
              "  var options = {\n",
              "    //bitsPerSecond: 8000, //chrome seems to ignore, always 48k\n",
              "    mimeType : 'audio/webm;codecs=opus'\n",
              "    //mimeType : 'audio/webm;codecs=pcm'\n",
              "  };            \n",
              "  //recorder = new MediaRecorder(stream, options);\n",
              "  recorder = new MediaRecorder(stream);\n",
              "  recorder.ondataavailable = function(e) {            \n",
              "    var url = URL.createObjectURL(e.data);\n",
              "    var preview = document.createElement('audio');\n",
              "    preview.controls = true;\n",
              "    preview.src = url;\n",
              "    document.body.appendChild(preview);\n",
              "\n",
              "    reader = new FileReader();\n",
              "    reader.readAsDataURL(e.data); \n",
              "    reader.onloadend = function() {\n",
              "      base64data = reader.result;\n",
              "      //console.log(\"Inside FileReader:\" + base64data);\n",
              "    }\n",
              "  };\n",
              "  recorder.start();\n",
              "  };\n",
              "\n",
              "recordButton.innerText = \"Recording... press to stop\";\n",
              "\n",
              "navigator.mediaDevices.getUserMedia({audio: true}).then(handleSuccess);\n",
              "\n",
              "\n",
              "function toggleRecording() {\n",
              "  if (recorder && recorder.state == \"recording\") {\n",
              "      recorder.stop();\n",
              "      gumStream.getAudioTracks()[0].stop();\n",
              "      recordButton.innerText = \"Saving the recording... pls wait!\"\n",
              "  }\n",
              "}\n",
              "\n",
              "// https://stackoverflow.com/a/951057\n",
              "function sleep(ms) {\n",
              "  return new Promise(resolve => setTimeout(resolve, ms));\n",
              "}\n",
              "\n",
              "var data = new Promise(resolve=>{\n",
              "//recordButton.addEventListener(\"click\", toggleRecording);\n",
              "recordButton.onclick = ()=>{\n",
              "toggleRecording()\n",
              "\n",
              "sleep(2000).then(() => {\n",
              "  // wait 2000ms for the data to be available...\n",
              "  // ideally this should use something like await...\n",
              "  //console.log(\"Inside data:\" + base64data)\n",
              "  resolve(base64data.toString())\n",
              "\n",
              "});\n",
              "\n",
              "}\n",
              "});\n",
              "      \n",
              "</script>\n"
            ],
            "text/plain": [
              "<IPython.core.display.HTML object>"
            ]
          },
          "metadata": {}
        },
        {
          "output_type": "display_data",
          "data": {
            "image/png": "[encoded data removed]",
            "text/plain": [
              "<Figure size 1152x230.4 with 1 Axes>"
            ]
          },
          "metadata": {
            "needs_background": "light"
          }
        },
        {
          "output_type": "display_data",
          "data": {
            "image/png": "[encoded data removed]",
            "text/plain": [
              "<Figure size 1152x230.4 with 1 Axes>"
            ]
          },
          "metadata": {
            "needs_background": "light"
          }
        }
      ]
    },
    {
      "cell_type": "markdown",
      "source": [
        "Get the envelope of the signal using the Hilbert Transform"
      ],
      "metadata": {
        "id": "XeIli9ANXE-x"
      }
    },
    {
      "cell_type": "code",
      "source": [
        "w, chirp_spectrum = signal.freqz(s_chirp, worN=512)\n",
        "f = w/pi*sr/2\n",
        "# plot\n",
        "width, height = plt.figaspect(0.2)\n",
        "fig = plt.figure(figsize=(width,height))\n",
        "plt.plot(f, abs(Sf_chirp))\n",
        "plt.xlabel(\"Frequency [Hz]\")\n",
        "plt.ylabel(\"Magnitude\")\n",
        "plt.title(\"Frequency response of recorded audio\")\n",
        "\n",
        "s_chirp_HB = signal.hilbert( s_chirp )\n",
        "t = r_[0:len(s_chirp_HB)]/sr\n",
        "\n",
        "# plot\n",
        "width, height = figaspect(0.2)\n",
        "fig = figure(figsize=(width,height))\n",
        "plt.plot(t, abs(s_chirp_HB))\n",
        "plt.xlabel(\"Time [s]\")\n",
        "plt.ylabel(\"Envelope Amplitude\")\n",
        "plt.title(\"Envelope of the transcieved chirp\")"
      ],
      "metadata": {
        "id": "zVmP96K3XEW6"
      },
      "execution_count": 9,
      "outputs": []
    }
  ]
}